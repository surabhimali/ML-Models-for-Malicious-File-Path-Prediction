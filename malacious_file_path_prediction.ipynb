{
  "cells": [
    {
      "cell_type": "markdown",
      "metadata": {
        "id": "view-in-github",
        "colab_type": "text"
      },
      "source": [
        "<a href=\"https://colab.research.google.com/github/samkitkankariya/Malicious-File-Path-Predictor/blob/main/malacious_file_path_prediction.ipynb\" target=\"_parent\"><img src=\"https://colab.research.google.com/assets/colab-badge.svg\" alt=\"Open In Colab\"/></a>"
      ]
    },
    {
      "cell_type": "markdown",
      "source": [
        "# Data Pre-processing"
      ],
      "metadata": {
        "id": "bHw9N4Sllij2"
      }
    },
    {
      "cell_type": "markdown",
      "source": [
        "\n",
        "1. **Data Pre-processing:**\n",
        "   - The code begins by importing the necessary libraries, such as `csv` for handling CSV files and `pandas` for data manipulation.\n",
        "   - It defines file paths for both malicious and benign datasets and an output CSV file path for storing preprocessed data.\n",
        "\n",
        "2. **Reading and Handling Data Files:**\n",
        "   - It uses `with open` statements to read data from the malicious and benign files, handling potential file not found errors with error messages and exiting the script if an error occurs.\n",
        "   - Malicious and benign data are read into separate lists (`malicious_data` and `benign_data`) with UTF-8 encoding and stripping whitespace characters.\n",
        "\n",
        "3. **Data Extraction and Transformation:**\n",
        "   - The code extracts information from each file path, such as the path without the filename, the file name, file type (extension), and classification (malicious or benign).\n",
        "   - It processes each file path using list comprehensions and string manipulation techniques to extract the required information.\n",
        "   - Extracted information is stored in a list of lists (`data_rows`) for further processing.\n",
        "\n",
        "4. **DataFrame Creation and Data Inspection:**\n",
        "   - The extracted data is used to create a pandas DataFrame (`df`) with appropriate column names.\n",
        "   - The code checks for missing values (null or NaN) in the DataFrame using `isnull().sum()` and prints the count of missing values for each column.\n",
        "   - It also checks for duplicate rows in the DataFrame using `duplicated().sum()` and prints the count of duplicate rows.\n",
        "\n",
        "5. **Data Cleaning and Transformation:**\n",
        "   - Duplicate rows in the DataFrame are handled by removing them using `drop_duplicates()` if necessary.\n",
        "   - The cleaned and transformed data is saved to a CSV file (`output_csv_file`) using `to_csv()` with the `index=False` parameter to exclude the index column from the saved file.\n",
        "\n",
        "6. **Output and Completion:**\n",
        "   - The code prints a message indicating the completion of data preprocessing and the path where the preprocessed dataset is saved along with its shape (number of rows and columns).\n",
        "\n",
        "Overall, the code demonstrates the essential steps of data pre-processing for an ML project, including data reading, extraction, transformation, cleaning, and saving the preprocessed data for further analysis and modeling."
      ],
      "metadata": {
        "id": "WKpR23kzm3wy"
      }
    },
    {
      "cell_type": "code",
      "execution_count": null,
      "metadata": {
        "id": "K0MOQ8wmY8H6",
        "outputId": "8e6635a1-52c6-406d-9e2b-aecf2c52d7a4",
        "colab": {
          "base_uri": "https://localhost:8080/"
        }
      },
      "outputs": [
        {
          "output_type": "stream",
          "name": "stdout",
          "text": [
            "Missing values:\n",
            " File Path         0\n",
            "File Name         0\n",
            "File Type         0\n",
            "Classification    0\n",
            "dtype: int64\n",
            "\n",
            "Duplicate Rows Count: 12323\n",
            "Preprocessed dataset saved to malicious_and_benign_data.csv (248824, 4)\n"
          ]
        }
      ],
      "source": [
        "#data pre-processing save this in your collab without filename in filepath\n",
        "\n",
        "import csv\n",
        "import pandas as pd\n",
        "\n",
        "# Define file paths\n",
        "malicious_file_path = \"dataset_file_path_malicious.txt\"\n",
        "benign_file_path = \"dataset_file_path_benign.txt\"\n",
        "output_csv_file = \"malicious_and_benign_data.csv\"  # Target for preprocessed data\n",
        "\n",
        "# Initialize rows list for data from both files\n",
        "data_rows = []\n",
        "\n",
        "# Read entries from the malicious file\n",
        "try:\n",
        "    with open(malicious_file_path, \"r\", encoding=\"utf-8\") as malicious_file:\n",
        "        malicious_data = [line.strip() for line in malicious_file.readlines()]\n",
        "except FileNotFoundError:\n",
        "    print(f\"Error: Malicious file '{malicious_file_path}' not found.\")\n",
        "    exit(1)\n",
        "\n",
        "# Read entries from the benign file\n",
        "try:\n",
        "    with open(benign_file_path, \"r\", encoding=\"utf-8\") as benign_file:\n",
        "        benign_data = [line.strip() for line in benign_file.readlines()]\n",
        "except FileNotFoundError:\n",
        "    print(f\"Error: Benign file '{benign_file_path}' not found.\")\n",
        "    exit(1)\n",
        "\n",
        "# Extract file path\n",
        "for file_path in malicious_data:\n",
        "    try:\n",
        "        path_only = \"\\\\\".join(file_path.split(\"\\\\\")[:-1])  # Extract path without filename\n",
        "        file_name = file_path.split(\"\\\\\")[-1]  # Extract file name\n",
        "        file_type = file_name.split(\".\")[-1]  # Extract file type\n",
        "        classification = \"malicious\"\n",
        "        data_rows.append([path_only, file_name, file_type, classification])\n",
        "    except IndexError:\n",
        "        print(f\"Warning: Malformed file path encountered: {file_path}\")\n",
        "\n",
        "for file_path in benign_data:\n",
        "    try:\n",
        "        path_only = \"\\\\\".join(file_path.split(\"\\\\\")[:-1])  # Extract path without filename\n",
        "        file_name = file_path.split(\"\\\\\")[-1]  # Extract file name\n",
        "        file_type = file_name.split(\".\")[-1]  # Extract file type\n",
        "        classification = \"benign\"\n",
        "        data_rows.append([path_only, file_name, file_type, classification])\n",
        "    except IndexError:\n",
        "        print(f\"Warning: Malformed file path encountered: {file_path}\")\n",
        "\n",
        "# Create DataFrame\n",
        "df = pd.DataFrame(data_rows, columns=[\"File Path\", \"File Name\", \"File Type\", \"Classification\"])\n",
        "\n",
        "# Check for missing values (null or NaN) in the DataFrame\n",
        "missing_values = df.isnull().sum()\n",
        "print(\"Missing values:\\n\", missing_values)\n",
        "\n",
        "# Handle duplicate rows\n",
        "duplicates_count = df.duplicated().sum()\n",
        "print(\"\\nDuplicate Rows Count:\", duplicates_count)\n",
        "\n",
        "\n",
        "df = df.drop_duplicates()  # Remove duplicates\n",
        "\n",
        "# Save the preprocessed data to the CSV file\n",
        "df.to_csv(output_csv_file, index=False)\n",
        "print(\"Preprocessed dataset saved to\", output_csv_file, df.shape)\n"
      ]
    },
    {
      "cell_type": "markdown",
      "source": [],
      "metadata": {
        "id": "Mh3P_98_nE_D"
      }
    },
    {
      "cell_type": "markdown",
      "source": [
        "# Encoding"
      ],
      "metadata": {
        "id": "Ql1fxYebnFdO"
      }
    },
    {
      "cell_type": "markdown",
      "source": [
        "\n",
        "\n",
        "1. **Loading Data and Importing Libraries:**\n",
        "   - The code begins by importing pandas as pd and LabelEncoder from sklearn.preprocessing.\n",
        "\n",
        "2. **Loading the CSV File:**\n",
        "   - It uses pd.read_csv() to load the preprocessed CSV file (\"malicious_and_benign_data.csv\") into a pandas DataFrame (df).\n",
        "\n",
        "3. **Encoding Categorical Variables:**\n",
        "   - LabelEncoder is used to encode the 'Classification' column, which contains categorical data ('malicious' and 'benign'). The encoder assigns numeric labels to each category ('malicious': 0, 'benign': 1).\n",
        "   - Categorical variables 'File Path', 'File Name', and 'File Type' are also encoded using LabelEncoder. Each unique value in these columns is assigned a numeric label.\n",
        "\n",
        "4. **Saving the Encoded DataFrame:**\n",
        "   - The encoded DataFrame is saved to a new CSV file (\"encoded_data.csv\") using df.to_csv() with the index parameter set to False to exclude the index column from the saved file.\n",
        "\n",
        "5. **Output Confirmation:**\n",
        "   - The code prints a message confirming that categorical encoding is completed and the encoded data is saved to \"encoded_data.csv\".\n",
        "\n",
        "Overall, this code segment demonstrates the process of encoding categorical variables using LabelEncoder, a common technique used in machine learning to transform categorical data into numeric format suitable for model training."
      ],
      "metadata": {
        "id": "5f8gmLkznQdM"
      }
    },
    {
      "cell_type": "code",
      "execution_count": null,
      "metadata": {
        "id": "vTi3fQWBY8IC",
        "outputId": "2b82d93d-d025-49f3-d625-34411ced1e0a",
        "colab": {
          "base_uri": "https://localhost:8080/"
        }
      },
      "outputs": [
        {
          "output_type": "stream",
          "name": "stdout",
          "text": [
            "Categorical encoding completed and saved to 'encoded_data.csv'.\n"
          ]
        }
      ],
      "source": [
        "import pandas as pd\n",
        "from sklearn.preprocessing import LabelEncoder\n",
        "\n",
        "# Load the CSV file into a DataFrame\n",
        "df = pd.read_csv(\"malicious_and_benign_data.csv\")\n",
        "\n",
        "# Encode the 'Classification' column using LabelEncoder\n",
        "label_encoder = LabelEncoder()\n",
        "df['Classification'] = label_encoder.fit_transform(df['Classification'])\n",
        "\n",
        "# Encode categorical variables\n",
        "df['File Path'] = label_encoder.fit_transform(df['File Path'])\n",
        "df['File Name'] = label_encoder.fit_transform(df['File Name'])\n",
        "df['File Type'] = label_encoder.fit_transform(df['File Type'])\n",
        "\n",
        "# Save the encoded DataFrame to a new CSV file\n",
        "df.to_csv(\"encoded_data.csv\", index=False)\n",
        "\n",
        "print(\"Categorical encoding completed and saved to 'encoded_data.csv'.\")\n"
      ]
    },
    {
      "cell_type": "markdown",
      "source": [
        "# Data Splitting for Machine Learning Model Training and Testing"
      ],
      "metadata": {
        "id": "p2mL0pUJniUq"
      }
    },
    {
      "cell_type": "markdown",
      "source": [
        "\n",
        "1. **Train-Test Split for Benign and Malicious Data:**\n",
        "   - The benign data (benign_df) is split into train (80%) and test (20%) sets using train_test_split with a random state for reproducibility.\n",
        "   - Similarly, the malicious data (malicious_df) is split into train and test sets with the same proportions and random state.\n",
        "\n",
        "\n",
        "2. **Separating Features and Target Variables:**\n",
        "   - Features (X) and the target variable (y) are separated for both the training (train_data) and testing (test_data) sets.\n",
        "   - Features are obtained by dropping the 'Classification' column, and the target variable is extracted as the 'Classification' column.\n",
        "\n",
        "3. **Saving Train and Test Data to CSV Files:**\n",
        "   - The train and test data are saved to separate CSV files (X_train.csv, X_test.csv, y_train.csv, y_test.csv) using to_csv() with the index parameter set to False to exclude the index column from the saved files.\n",
        "\n",
        "\n",
        "This code segment demonstrates the essential steps of splitting data into train and test sets for machine learning model training and evaluation, ensuring that the model is trained on a subset of data and tested on unseen data for performance assessment."
      ],
      "metadata": {
        "id": "PrDHUau8nkT9"
      }
    },
    {
      "cell_type": "code",
      "execution_count": null,
      "metadata": {
        "id": "_Vt4dOy3Y8IE",
        "outputId": "46fbff85-3ce9-499a-b112-56dc86959b4f",
        "colab": {
          "base_uri": "https://localhost:8080/"
        }
      },
      "outputs": [
        {
          "output_type": "stream",
          "name": "stdout",
          "text": [
            "Train and test datasets created successfully.\n"
          ]
        }
      ],
      "source": [
        "import pandas as pd\n",
        "from sklearn.model_selection import train_test_split\n",
        "\n",
        "# Load the encoded CSV file into a DataFrame\n",
        "df_encoded = pd.read_csv(\"encoded_data.csv\")\n",
        "\n",
        "# Split the data into benign and malicious DataFrames\n",
        "benign_df = df_encoded[df_encoded['Classification'] == 0]\n",
        "malicious_df = df_encoded[df_encoded['Classification'] == 1]\n",
        "\n",
        "# Split the benign data into train and test sets (10% for testing)\n",
        "benign_train, benign_test = train_test_split(benign_df, test_size=0.2, random_state=42)\n",
        "\n",
        "# Split the malicious data into train and test sets (10% for testing)\n",
        "malicious_train, malicious_test = train_test_split(malicious_df, test_size=0.2, random_state=42)\n",
        "\n",
        "# Concatenate the train data back together\n",
        "train_data = pd.concat([benign_train, malicious_train])\n",
        "\n",
        "# Concatenate the test data back together\n",
        "test_data = pd.concat([benign_test, malicious_test])\n",
        "\n",
        "# Separate features (X) and target variable (y) for training data\n",
        "X_train = train_data.drop(columns=['Classification'])  # Features for training\n",
        "y_train = train_data['Classification']  # Target variable for training\n",
        "\n",
        "# Separate features (X) and target variable (y) for testing data\n",
        "X_test = test_data.drop(columns=['Classification'])  # Features for testing\n",
        "y_test = test_data['Classification']  # Target variable for testing\n",
        "\n",
        "# Save the train and test data to separate CSV files\n",
        "X_train.to_csv(\"X_train.csv\", index=False)\n",
        "X_test.to_csv(\"X_test.csv\", index=False)\n",
        "y_train.to_csv(\"y_train.csv\", index=False)\n",
        "y_test.to_csv(\"y_test.csv\", index=False)\n",
        "\n",
        "print(\"Train and test datasets created successfully.\")\n"
      ]
    },
    {
      "cell_type": "code",
      "execution_count": null,
      "metadata": {
        "id": "J5Q7XbBIY8IG",
        "outputId": "acc20b4d-a167-4e67-a4bd-f8752a11a366",
        "colab": {
          "base_uri": "https://localhost:8080/"
        }
      },
      "outputs": [
        {
          "output_type": "stream",
          "name": "stdout",
          "text": [
            "Shape of X_train: (199059, 3)\n",
            "Shape of y_train: (199059,)\n"
          ]
        }
      ],
      "source": [
        "print(\"Shape of X_train:\", X_train.shape)\n",
        "print(\"Shape of y_train:\", y_train.shape)\n",
        "\n"
      ]
    },
    {
      "cell_type": "markdown",
      "source": [
        "# ML MODELS"
      ],
      "metadata": {
        "id": "UcdsB66Tobjr"
      }
    },
    {
      "cell_type": "markdown",
      "source": [
        "## **Random Forest Classifier**"
      ],
      "metadata": {
        "id": "5krRliCHomww"
      }
    },
    {
      "cell_type": "markdown",
      "source": [
        "\n",
        "1. **Model Training and Evaluation with Random Forest Classifier**\n",
        "\n",
        "   - **Model Loading:** Checks if a cached model exists. If yes, loads the model; otherwise, proceeds to train a new model.\n",
        "   - **Data Loading:** Loads the training and testing data from CSV files.\n",
        "   - **Model Initialization:** Initializes a Random Forest Classifier with specified parameters (e.g., number of estimators).\n",
        "   - **Model Training:** Trains the Random Forest Classifier using the training data.\n",
        "   - **Model Caching:** Saves the trained model for future use (caching).\n",
        "   - **Model Prediction:** Uses the trained model to make predictions on the test data.\n",
        "   - **Performance Metrics Calculation:** Calculates accuracy, confusion matrix, precision, recall, and F1 score for the classifier.\n",
        "   - **Output Formatting:** Formats the output metrics (e.g., accuracy, precision) for better readability.\n",
        "   - **Output Display:** Prints the calculated metrics (accuracy, precision, recall, F1 score) for the Random Forest Classifier.\n",
        "   - **Confusion Matrix Visualization:** Plots and displays the confusion matrix using seaborn and matplotlib libraries.\n",
        "\n",
        "This code segment demonstrates the complete pipeline of training a Random Forest Classifier, evaluating its performance using various metrics, and visualizing the results using a confusion matrix plot."
      ],
      "metadata": {
        "id": "1Po2FHtco3x2"
      }
    },
    {
      "cell_type": "code",
      "execution_count": null,
      "metadata": {
        "id": "VhkD7pQZY8IK",
        "outputId": "338f52e4-5a6b-4b08-bf88-b29ec7dac5a1",
        "colab": {
          "base_uri": "https://localhost:8080/",
          "height": 437
        }
      },
      "outputs": [
        {
          "output_type": "stream",
          "name": "stdout",
          "text": [
            "Trained Random Forest model cached.\n",
            "Random Forest Classifier Metrics:\n",
            "Accuracy: 98.53%\n",
            "Precision: 98.52%\n",
            "Recall: 98.59%\n",
            "F1 Score: 98.56%\n"
          ]
        },
        {
          "output_type": "display_data",
          "data": {
            "text/plain": [
              "<Figure size 400x300 with 2 Axes>"
            ],
            "image/png": "[encoded data removed]"
          },
          "metadata": {}
        }
      ],
      "source": [
        "import pandas as pd\n",
        "from sklearn.ensemble import RandomForestClassifier\n",
        "from sklearn.metrics import accuracy_score, confusion_matrix\n",
        "from joblib import dump, load\n",
        "import matplotlib.pyplot as plt\n",
        "import seaborn as sns\n",
        "import os\n",
        "\n",
        "# Check if the cached model exists\n",
        "if os.path.exists(\"cached_model_rf.joblib\"):\n",
        "    # Load the cached model\n",
        "    rf_classifier = load(\"cached_model_rf.joblib\")\n",
        "    print(\"Cached Random Forest model loaded.\")\n",
        "else:\n",
        "    # Load the training and testing data from CSV files with header rows\n",
        "    X_train = pd.read_csv(\"X_train.csv\")\n",
        "    y_train = pd.read_csv(\"y_train.csv\", header=None).iloc[1:, 0]  # Assuming y_train has one column\n",
        "\n",
        "    X_test = pd.read_csv(\"X_test.csv\")\n",
        "    y_test = pd.read_csv(\"y_test.csv\", header=None).iloc[1:, 0]  # Assuming y_test has one column\n",
        "\n",
        "    # Initialize the Random Forest Classifier\n",
        "    rf_classifier = RandomForestClassifier(n_estimators=100, random_state=42)\n",
        "\n",
        "    # Train the Random Forest Classifier\n",
        "    rf_classifier.fit(X_train, y_train)\n",
        "\n",
        "    # Cache the trained model\n",
        "    dump(rf_classifier, \"cached_model_rf.joblib\")\n",
        "    print(\"Trained Random Forest model cached.\")\n",
        "\n",
        "# Make predictions on the test data\n",
        "y_pred_rf = rf_classifier.predict(X_test)\n",
        "\n",
        "# Calculate accuracy\n",
        "accuracy_rf = accuracy_score(y_test, y_pred_rf)\n",
        "\n",
        "# Calculate confusion matrix\n",
        "conf_matrix_rf = confusion_matrix(y_test, y_pred_rf)\n",
        "\n",
        "# Calculate precision, recall, and F1-score manually\n",
        "true_positives_rf = conf_matrix_rf[1, 1]\n",
        "false_positives_rf = conf_matrix_rf[0, 1]\n",
        "false_negatives_rf = conf_matrix_rf[1, 0]\n",
        "\n",
        "precision_rf = true_positives_rf / (true_positives_rf + false_positives_rf)\n",
        "recall_rf = true_positives_rf / (true_positives_rf + false_negatives_rf)\n",
        "f1_rf = 2 * (precision_rf * recall_rf) / (precision_rf + recall_rf)\n",
        "\n",
        "# Format the output in percentage and prettify the output\n",
        "accuracy_percent_rf = f\"{accuracy_rf * 100:.2f}%\"\n",
        "precision_percent_rf = f\"{precision_rf * 100:.2f}%\"\n",
        "recall_percent_rf = f\"{recall_rf * 100:.2f}%\"\n",
        "f1_percent_rf = f\"{f1_rf * 100:.2f}%\"\n",
        "\n",
        "# Print the metrics\n",
        "print(\"Random Forest Classifier Metrics:\")\n",
        "print(\"Accuracy:\", accuracy_percent_rf)\n",
        "print(\"Precision:\", precision_percent_rf)\n",
        "print(\"Recall:\", recall_percent_rf)\n",
        "print(\"F1 Score:\", f1_percent_rf)\n",
        "\n",
        "# Plot confusion matrix\n",
        "plt.figure(figsize=(4, 3))\n",
        "sns.heatmap(conf_matrix_rf, annot=True, cmap='Blues', fmt='g')\n",
        "plt.xlabel('Predicted labels')\n",
        "plt.ylabel('True labels')\n",
        "plt.title('Confusion Matrix - Random Forest Classifier')\n",
        "plt.show()\n"
      ]
    },
    {
      "cell_type": "markdown",
      "metadata": {
        "id": "HrKVLtOKY8IM"
      },
      "source": [
        "## **Gradient Boosting Classifier**"
      ]
    },
    {
      "cell_type": "markdown",
      "source": [
        "Here's a summarized overview of the main steps in the provided code segment for training a Gradient Boosting Classifier and evaluating its performance:\n",
        "\n",
        "\n",
        "1. **Model Initialization and Training:**\n",
        "   - Initializes a Gradient Boosting Classifier with specified parameters (e.g., number of estimators) if a cached model is not found.\n",
        "   - Trains the Gradient Boosting Classifier using the training data.\n",
        "\n",
        "2. **Model Caching:**\n",
        "   - Saves the trained model for future use (caching).\n",
        "\n",
        "3. **Model Prediction and Performance Evaluation:**\n",
        "   - Uses the trained model to make predictions on the test data.\n",
        "   - Calculates accuracy, confusion matrix, precision, recall, and F1 score for the Gradient Boosting Classifier.\n",
        "\n",
        "\n",
        "4. **Confusion Matrix Visualization:**\n",
        "   - Plots and displays the confusion matrix using seaborn and matplotlib libraries.\n",
        "\n",
        "This code segment demonstrates the complete pipeline of training a Gradient Boosting Classifier, evaluating its performance using various metrics, and visualizing the results using a confusion matrix plot."
      ],
      "metadata": {
        "id": "M__j1ymCpgRB"
      }
    },
    {
      "cell_type": "code",
      "execution_count": null,
      "metadata": {
        "id": "w5q0Oi00Y8IN",
        "outputId": "ae3e465a-cbfa-4cff-adaa-63e9993ae6d6",
        "colab": {
          "base_uri": "https://localhost:8080/",
          "height": 437
        }
      },
      "outputs": [
        {
          "output_type": "stream",
          "name": "stdout",
          "text": [
            "Trained Gradient Boosting model cached.\n",
            "Gradient Boosting Classifier Metrics:\n",
            "Accuracy: 98.60%\n",
            "Precision: 99.22%\n",
            "Recall: 98.02%\n",
            "F1 Score: 98.62%\n"
          ]
        },
        {
          "output_type": "display_data",
          "data": {
            "text/plain": [
              "<Figure size 400x300 with 2 Axes>"
            ],
            "image/png": "[encoded data removed]"
          },
          "metadata": {}
        }
      ],
      "source": [
        "import pandas as pd\n",
        "from sklearn.ensemble import GradientBoostingClassifier\n",
        "from sklearn.metrics import accuracy_score, confusion_matrix\n",
        "from joblib import dump, load\n",
        "import matplotlib.pyplot as plt\n",
        "import seaborn as sns\n",
        "import os\n",
        "\n",
        "# Check if the cached model exists\n",
        "if os.path.exists(\"cached_model_gb.joblib\"):\n",
        "    # Load the cached model\n",
        "    gb_classifier = load(\"cached_model_gb.joblib\")\n",
        "    print(\"Cached Gradient Boosting model loaded.\")\n",
        "else:\n",
        "    # Load the training and testing data from CSV files with header rows\n",
        "    X_train = pd.read_csv(\"X_train.csv\")\n",
        "    y_train = pd.read_csv(\"y_train.csv\", header=None).iloc[1:, 0]  # Assuming y_train has one column\n",
        "\n",
        "    X_test = pd.read_csv(\"X_test.csv\")\n",
        "    y_test = pd.read_csv(\"y_test.csv\", header=None).iloc[1:, 0]  # Assuming y_test has one column\n",
        "\n",
        "    # Initialize the Gradient Boosting Classifier\n",
        "    gb_classifier = GradientBoostingClassifier(n_estimators=100, random_state=42)\n",
        "\n",
        "    # Train the Gradient Boosting Classifier\n",
        "    gb_classifier.fit(X_train, y_train)\n",
        "\n",
        "    # Cache the trained model\n",
        "    dump(gb_classifier, \"cached_model_gb.joblib\")\n",
        "    print(\"Trained Gradient Boosting model cached.\")\n",
        "\n",
        "# Make predictions on the test data\n",
        "y_pred_gb = gb_classifier.predict(X_test)\n",
        "\n",
        "# Calculate accuracy\n",
        "accuracy_gb = accuracy_score(y_test, y_pred_gb)\n",
        "\n",
        "# Calculate confusion matrix\n",
        "conf_matrix_gb = confusion_matrix(y_test, y_pred_gb)\n",
        "\n",
        "# Calculate precision, recall, and F1-score manually\n",
        "true_positives_gb = conf_matrix_gb[1, 1]\n",
        "false_positives_gb = conf_matrix_gb[0, 1]\n",
        "false_negatives_gb = conf_matrix_gb[1, 0]\n",
        "\n",
        "precision_gb = true_positives_gb / (true_positives_gb + false_positives_gb)\n",
        "recall_gb = true_positives_gb / (true_positives_gb + false_negatives_gb)\n",
        "f1_gb = 2 * (precision_gb * recall_gb) / (precision_gb + recall_gb)\n",
        "\n",
        "# Format the output in percentage and prettify the output\n",
        "accuracy_percent_gb = f\"{accuracy_gb * 100:.2f}%\"\n",
        "precision_percent_gb = f\"{precision_gb * 100:.2f}%\"\n",
        "recall_percent_gb = f\"{recall_gb * 100:.2f}%\"\n",
        "f1_percent_gb = f\"{f1_gb * 100:.2f}%\"\n",
        "\n",
        "# Print the metrics\n",
        "print(\"Gradient Boosting Classifier Metrics:\")\n",
        "print(\"Accuracy:\", accuracy_percent_gb)\n",
        "print(\"Precision:\", precision_percent_gb)\n",
        "print(\"Recall:\", recall_percent_gb)\n",
        "print(\"F1 Score:\", f1_percent_gb)\n",
        "\n",
        "# Plot confusion matrix\n",
        "plt.figure(figsize=(4, 3))\n",
        "sns.heatmap(conf_matrix_gb, annot=True, cmap='Blues', fmt='g')\n",
        "plt.xlabel('Predicted labels')\n",
        "plt.ylabel('True labels')\n",
        "plt.title('Confusion Matrix - Gradient Boosting Classifier')\n",
        "plt.show()\n"
      ]
    },
    {
      "cell_type": "markdown",
      "source": [
        "## Comparision of Random Classifier & Gradient Boosting Classifier"
      ],
      "metadata": {
        "id": "CpZ1OiC6qBgc"
      }
    },
    {
      "cell_type": "code",
      "execution_count": null,
      "metadata": {
        "id": "vXt4oxSKY8IP",
        "outputId": "7ac8b04c-d51a-4328-fd37-96206a89dff3",
        "colab": {
          "base_uri": "https://localhost:8080/"
        }
      },
      "outputs": [
        {
          "output_type": "stream",
          "name": "stdout",
          "text": [
            "+------------------------------+----------+-----------+--------+----------+\n",
            "|          Classifier          | Accuracy | Precision | Recall | F1-Score |\n",
            "+------------------------------+----------+-----------+--------+----------+\n",
            "|   Random Forest Classifier   |  98.53%  |  98.52%   | 98.59% |  98.56%  |\n",
            "| Gradient Boosting Classifier |  98.60%  |  99.22%   | 98.02% |  98.62%  |\n",
            "+------------------------------+----------+-----------+--------+----------+\n",
            "\n",
            "Additional Interesting Insight:\n",
            "Random Forest Classifier has higher accuracy and F1-score compared to Gradient Boosting Classifier, \n",
            "While Gradient Boosting Classifier shows slightly higher precision and recall.\n"
          ]
        }
      ],
      "source": [
        "from tabulate import tabulate\n",
        "\n",
        "# Additional Insights as a Pretty Table\n",
        "additional_insights = [\n",
        "    [\"Random Forest Classifier\", f\"{accuracy_rf * 100:.2f}%\", f\"{precision_rf * 100:.2f}%\", f\"{recall_rf * 100:.2f}%\", f\"{f1_rf * 100:.2f}%\"],\n",
        "    [\"Gradient Boosting Classifier\", f\"{accuracy_gb * 100:.2f}%\", f\"{precision_gb * 100:.2f}%\", f\"{recall_gb * 100:.2f}%\", f\"{f1_gb * 100:.2f}%\"]\n",
        "]\n",
        "\n",
        "headers = [\"Classifier\", \"Accuracy\", \"Precision\", \"Recall\", \"F1-Score\"]\n",
        "table = tabulate(additional_insights, headers=headers, tablefmt=\"pretty\")\n",
        "\n",
        "print(table)\n",
        "\n",
        "# Additional Interesting Insight\n",
        "print(\"\\nAdditional Interesting Insight:\")\n",
        "print(\"Random Forest Classifier has higher accuracy and F1-score compared to Gradient Boosting Classifier, \\nWhile Gradient Boosting Classifier shows slightly higher precision and recall.\")\n"
      ]
    },
    {
      "cell_type": "markdown",
      "source": [
        "## Neural Network Classifier"
      ],
      "metadata": {
        "id": "D9E3jnVLqTnh"
      }
    },
    {
      "cell_type": "code",
      "execution_count": null,
      "metadata": {
        "id": "4d9L6NsYY8IS",
        "colab": {
          "base_uri": "https://localhost:8080/",
          "height": 770
        },
        "outputId": "59afcc6e-5e6a-489a-e29f-1795789615ff"
      },
      "outputs": [
        {
          "output_type": "stream",
          "name": "stdout",
          "text": [
            "Epoch 1/10\n",
            "5599/5599 [==============================] - 26s 4ms/step - loss: 6.2088 - accuracy: 0.6756 - val_loss: 0.4633 - val_accuracy: 0.8052\n",
            "Epoch 2/10\n",
            "5599/5599 [==============================] - 23s 4ms/step - loss: 0.7536 - accuracy: 0.7490 - val_loss: 1.6750 - val_accuracy: 0.8135\n",
            "Epoch 3/10\n",
            "5599/5599 [==============================] - 23s 4ms/step - loss: 0.5424 - accuracy: 0.7040 - val_loss: 0.6517 - val_accuracy: 0.9860\n",
            "Epoch 4/10\n",
            "5599/5599 [==============================] - 22s 4ms/step - loss: 0.5705 - accuracy: 0.6339 - val_loss: 0.5709 - val_accuracy: 0.9996\n",
            "Epoch 5/10\n",
            "5599/5599 [==============================] - 24s 4ms/step - loss: 0.5714 - accuracy: 0.6297 - val_loss: 0.5945 - val_accuracy: 0.9988\n",
            "Epoch 6/10\n",
            "5599/5599 [==============================] - 22s 4ms/step - loss: 0.5675 - accuracy: 0.6338 - val_loss: 0.5928 - val_accuracy: 0.9991\n",
            "Epoch 7/10\n",
            "5599/5599 [==============================] - 23s 4ms/step - loss: 0.5651 - accuracy: 0.6352 - val_loss: 0.5912 - val_accuracy: 0.9993\n",
            "Epoch 8/10\n",
            "5599/5599 [==============================] - 22s 4ms/step - loss: 0.5630 - accuracy: 0.6379 - val_loss: 0.5691 - val_accuracy: 1.0000\n",
            "Epoch 9/10\n",
            "5599/5599 [==============================] - 22s 4ms/step - loss: 0.5600 - accuracy: 0.6407 - val_loss: 0.5877 - val_accuracy: 1.0000\n",
            "Epoch 10/10\n",
            "5599/5599 [==============================] - 22s 4ms/step - loss: 0.5565 - accuracy: 0.6453 - val_loss: 0.5959 - val_accuracy: 0.9768\n",
            "1556/1556 [==============================] - 3s 2ms/step - loss: 0.5596 - accuracy: 0.6767\n",
            "1556/1556 [==============================] - 3s 2ms/step\n",
            "Neural Network Classifier Metrics:\n",
            "Accuracy: 0.6767407059669495\n"
          ]
        },
        {
          "output_type": "display_data",
          "data": {
            "text/plain": [
              "<Figure size 400x300 with 2 Axes>"
            ],
            "image/png": "[encoded data removed]"
          },
          "metadata": {}
        }
      ],
      "source": [
        "import pandas as pd\n",
        "from sklearn.preprocessing import LabelEncoder\n",
        "from sklearn.metrics import accuracy_score, confusion_matrix\n",
        "from tensorflow.keras.models import Sequential\n",
        "from tensorflow.keras.layers import Dense\n",
        "import matplotlib.pyplot as plt\n",
        "import seaborn as sns\n",
        "import os\n",
        "from joblib import dump\n",
        "\n",
        "# Load the CSV files into DataFrames\n",
        "X_train = pd.read_csv(\"X_train.csv\")\n",
        "y_train = pd.read_csv(\"y_train.csv\", header=None).iloc[1:, 0]\n",
        "\n",
        "X_test = pd.read_csv(\"X_test.csv\")\n",
        "y_test = pd.read_csv(\"y_test.csv\", header=None).iloc[1:, 0]\n",
        "\n",
        "# Encode the target variable\n",
        "label_encoder = LabelEncoder()\n",
        "y_train = label_encoder.fit_transform(y_train)\n",
        "y_test = label_encoder.transform(y_test)\n",
        "\n",
        "# Initialize the neural network model\n",
        "model = Sequential()\n",
        "\n",
        "# Add input layer and hidden layers\n",
        "model.add(Dense(64, input_dim=X_train.shape[1], activation='relu'))\n",
        "model.add(Dense(32, activation='relu'))\n",
        "model.add(Dense(16, activation='relu'))\n",
        "\n",
        "# Add output layer\n",
        "model.add(Dense(1, activation='sigmoid'))\n",
        "\n",
        "# Compile the model\n",
        "model.compile(optimizer='adam', loss='binary_crossentropy', metrics=['accuracy'])\n",
        "\n",
        "# Train the model\n",
        "history = model.fit(X_train, y_train, epochs=10, batch_size=32, validation_split=0.1)\n",
        "\n",
        "# Save the trained model\n",
        "dump(model, \"cached_model_nn.joblib\")\n",
        "\n",
        "# Evaluate the model\n",
        "accuracy = model.evaluate(X_test, y_test)[1]\n",
        "y_pred_prob = model.predict(X_test)\n",
        "y_pred = (y_pred_prob > 0.5).astype(int)  # Convert probabilities to binary predictions\n",
        "conf_matrix = confusion_matrix(y_test, y_pred)\n",
        "\n",
        "print(\"Neural Network Classifier Metrics:\")\n",
        "print(\"Accuracy:\", accuracy)\n",
        "\n",
        "# Plot confusion matrix\n",
        "plt.figure(figsize=(4, 3))\n",
        "sns.heatmap(conf_matrix, annot=True, cmap='Blues', fmt='g')\n",
        "plt.xlabel('Predicted labels')\n",
        "plt.ylabel('True labels')\n",
        "plt.title('Confusion Matrix - Neural Network Classifier')\n",
        "plt.show()\n"
      ]
    },
    {
      "cell_type": "markdown",
      "source": [
        "# Failed attempts to get path as input from User"
      ],
      "metadata": {
        "id": "-djL47F_k4l1"
      }
    },
    {
      "cell_type": "code",
      "source": [
        "import pandas as pd\n",
        "\n",
        "# Load the original CSV file\n",
        "df = pd.read_csv(\"malicious_and_benign_data.csv\")\n",
        "\n",
        "# Filter the data to get 2000 entries of each class\n",
        "malicious_df = df[df['Classification'] == 'malicious'].head(2000)\n",
        "benign_df = df[df['Classification'] == 'benign'].head(2000)\n",
        "\n",
        "# Concatenate the filtered dataframes\n",
        "filtered_df = pd.concat([malicious_df, benign_df])\n",
        "\n",
        "# Save the filtered data to a new CSV file\n",
        "filtered_df.to_csv(\"filtered_data.csv\", index=False)\n",
        "\n",
        "print(\"Filtered CSV file created successfully.\")\n"
      ],
      "metadata": {
        "colab": {
          "base_uri": "https://localhost:8080/"
        },
        "id": "wgBl2FMcrYjP",
        "outputId": "9b4fffc5-3967-45df-ab3d-140c1dc04657"
      },
      "execution_count": null,
      "outputs": [
        {
          "output_type": "stream",
          "name": "stdout",
          "text": [
            "Filtered CSV file created successfully.\n"
          ]
        }
      ]
    },
    {
      "cell_type": "code",
      "source": [
        "import pandas as pd\n",
        "from sklearn.preprocessing import LabelEncoder, OneHotEncoder\n",
        "from sklearn.ensemble import RandomForestClassifier\n",
        "from sklearn.model_selection import train_test_split\n",
        "from sklearn.metrics import accuracy_score, confusion_matrix\n",
        "from joblib import dump, load\n",
        "\n",
        "# Load the CSV file into a DataFrame\n",
        "df = pd.read_csv(\"filtered_data.csv\")\n",
        "\n",
        "# Encode the 'Classification' column using LabelEncoder\n",
        "label_encoder = LabelEncoder()\n",
        "df['Classification'] = label_encoder.fit_transform(df['Classification'])\n",
        "\n",
        "# Convert 'File Type' using OneHotEncoder\n",
        "onehot_encoder_file_type = OneHotEncoder(sparse=False)\n",
        "file_type_encoded = onehot_encoder_file_type.fit_transform(df[['File Type']])\n",
        "file_type_encoded_df = pd.DataFrame(file_type_encoded, columns=onehot_encoder_file_type.get_feature_names_out())\n",
        "df = pd.concat([df, file_type_encoded_df], axis=1)\n",
        "df.drop(columns=['File Type'], inplace=True)\n",
        "\n",
        "# Convert 'File Path' using OneHotEncoder\n",
        "onehot_encoder_file_path = OneHotEncoder(sparse=False)\n",
        "file_path_encoded = onehot_encoder_file_path.fit_transform(df[['File Path']])\n",
        "file_path_encoded_df = pd.DataFrame(file_path_encoded, columns=onehot_encoder_file_path.get_feature_names_out())\n",
        "df = pd.concat([df, file_path_encoded_df], axis=1)\n",
        "df.drop(columns=['File Path'], inplace=True)\n",
        "\n",
        "# Convert 'File Name' using OneHotEncoder\n",
        "onehot_encoder_file_name = OneHotEncoder(sparse=False)\n",
        "file_name_encoded = onehot_encoder_file_name.fit_transform(df[['File Name']])\n",
        "file_name_encoded_df = pd.DataFrame(file_name_encoded, columns=onehot_encoder_file_name.get_feature_names_out())\n",
        "df = pd.concat([df, file_name_encoded_df], axis=1)\n",
        "df.drop(columns=['File Name'], inplace=True)\n",
        "\n",
        "# Separate features (X) and target variable (y)\n",
        "X = df.drop(columns=['Classification'])\n",
        "y = df['Classification']\n",
        "\n",
        "# Split the data into training and testing sets\n",
        "X_train, X_test, y_train, y_test = train_test_split(X, y, test_size=0.2, random_state=42)\n",
        "\n",
        "# Initialize the Random Forest Classifier\n",
        "rf_classifier = RandomForestClassifier(n_estimators=100, random_state=42)\n",
        "\n",
        "# Train the Random Forest Classifier\n",
        "rf_classifier.fit(X_train, y_train)\n",
        "\n",
        "# Cache the encoder and classifier\n",
        "dump(label_encoder, \"label_encoder.joblib\")\n",
        "dump(onehot_encoder_file_type, \"onehot_encoder_file_type.joblib\")\n",
        "dump(onehot_encoder_file_path, \"onehot_encoder_file_path.joblib\")\n",
        "dump(onehot_encoder_file_name, \"onehot_encoder_file_name.joblib\")\n",
        "dump(rf_classifier, \"rf_classifier.joblib\")\n",
        "\n",
        "# Make predictions on the test data\n",
        "y_pred = rf_classifier.predict(X_test)\n",
        "\n",
        "# Calculate accuracy\n",
        "accuracy = accuracy_score(y_test, y_pred)\n",
        "\n",
        "# Print accuracy\n",
        "print(\"Accuracy:\", accuracy)\n",
        "\n"
      ],
      "metadata": {
        "colab": {
          "base_uri": "https://localhost:8080/"
        },
        "id": "agn2-FJVrpdJ",
        "outputId": "7405fea1-dd5c-457d-8fa1-d4358509bcb6"
      },
      "execution_count": null,
      "outputs": [
        {
          "output_type": "stream",
          "name": "stderr",
          "text": [
            "/usr/local/lib/python3.10/dist-packages/sklearn/preprocessing/_encoders.py:868: FutureWarning: `sparse` was renamed to `sparse_output` in version 1.2 and will be removed in 1.4. `sparse_output` is ignored unless you leave `sparse` to its default value.\n",
            "  warnings.warn(\n",
            "/usr/local/lib/python3.10/dist-packages/sklearn/preprocessing/_encoders.py:868: FutureWarning: `sparse` was renamed to `sparse_output` in version 1.2 and will be removed in 1.4. `sparse_output` is ignored unless you leave `sparse` to its default value.\n",
            "  warnings.warn(\n",
            "/usr/local/lib/python3.10/dist-packages/sklearn/preprocessing/_encoders.py:868: FutureWarning: `sparse` was renamed to `sparse_output` in version 1.2 and will be removed in 1.4. `sparse_output` is ignored unless you leave `sparse` to its default value.\n",
            "  warnings.warn(\n"
          ]
        },
        {
          "output_type": "stream",
          "name": "stdout",
          "text": [
            "Accuracy: 1.0\n"
          ]
        }
      ]
    },
    {
      "cell_type": "code",
      "source": [
        "import pandas as pd\n",
        "from sklearn.preprocessing import LabelEncoder, OneHotEncoder\n",
        "from sklearn.ensemble import RandomForestClassifier\n",
        "from sklearn.model_selection import train_test_split\n",
        "from sklearn.metrics import accuracy_score, confusion_matrix\n",
        "from joblib import dump, load\n",
        "\n",
        "# Load the CSV file into a DataFrame\n",
        "df = pd.read_csv(\"filtered_data.csv\")\n",
        "\n",
        "# Encode the 'Classification' column using LabelEncoder\n",
        "label_encoder = LabelEncoder()\n",
        "df['Classification'] = label_encoder.fit_transform(df['Classification'])\n",
        "\n",
        "# Convert 'File Type' using OneHotEncoder\n",
        "onehot_encoder_file_type = OneHotEncoder(sparse=False)\n",
        "file_type_encoded = onehot_encoder_file_type.fit_transform(df[['File Type']])\n",
        "file_type_encoded_df = pd.DataFrame(file_type_encoded, columns=onehot_encoder_file_type.get_feature_names_out())\n",
        "df = pd.concat([df, file_type_encoded_df], axis=1)\n",
        "df.drop(columns=['File Type'], inplace=True)\n",
        "\n",
        "# Convert 'File Path' using OneHotEncoder\n",
        "onehot_encoder_file_path = OneHotEncoder(sparse=False)\n",
        "file_path_encoded = onehot_encoder_file_path.fit_transform(df[['File Path']])\n",
        "file_path_encoded_df = pd.DataFrame(file_path_encoded, columns=onehot_encoder_file_path.get_feature_names_out())\n",
        "df = pd.concat([df, file_path_encoded_df], axis=1)\n",
        "df.drop(columns=['File Path'], inplace=True)\n",
        "\n",
        "# Convert 'File Name' using OneHotEncoder\n",
        "onehot_encoder_file_name = OneHotEncoder(sparse=False)\n",
        "file_name_encoded = onehot_encoder_file_name.fit_transform(df[['File Name']])\n",
        "file_name_encoded_df = pd.DataFrame(file_name_encoded, columns=onehot_encoder_file_name.get_feature_names_out())\n",
        "df = pd.concat([df, file_name_encoded_df], axis=1)\n",
        "df.drop(columns=['File Name'], inplace=True)\n",
        "\n",
        "# Separate features (X) and target variable (y)\n",
        "X = df.drop(columns=['Classification'])\n",
        "y = df['Classification']\n",
        "\n",
        "# Initialize the Random Forest Classifier\n",
        "rf_classifier = RandomForestClassifier(n_estimators=100, random_state=42)\n",
        "\n",
        "# Train the Random Forest Classifier\n",
        "rf_classifier.fit(X, y)\n",
        "\n",
        "# Cache the encoder and classifier\n",
        "dump(label_encoder, \"label_encoder.joblib\")\n",
        "dump(onehot_encoder_file_type, \"onehot_encoder_file_type.joblib\")\n",
        "dump(onehot_encoder_file_path, \"onehot_encoder_file_path.joblib\")\n",
        "dump(onehot_encoder_file_name, \"onehot_encoder_file_name.joblib\")\n",
        "dump(rf_classifier, \"rf_classifier.joblib\")\n",
        "\n",
        "# Get input from the user (file path)\n",
        "file_path = input(\"Enter the file path: \")\n",
        "\n",
        "# Split the file path into file path without file name, file name, and file type\n",
        "path_only = \"\\\\\".join(file_path.split(\"\\\\\")[:-1])  # Extract path without filename\n",
        "file_name = file_path.split(\"\\\\\")[-1]  # Extract file name\n",
        "file_type = file_name.split(\".\")[-1]  # Extract file type\n",
        "\n",
        "# Encode the input using the same pattern as the encoded dataset\n",
        "path_encoded = onehot_encoder_file_path.transform([[path_only]])\n",
        "name_encoded = onehot_encoder_file_name.transform([[file_name]])\n",
        "type_encoded = onehot_encoder_file_type.transform([[file_type]])\n",
        "\n",
        "# Combine the encoded features\n",
        "encoded_features = pd.DataFrame(path_encoded, columns=onehot_encoder_file_path.get_feature_names_out())\n",
        "encoded_features = pd.concat([encoded_features, pd.DataFrame(name_encoded, columns=onehot_encoder_file_name.get_feature_names_out())], axis=1)\n",
        "encoded_features = pd.concat([encoded_features, pd.DataFrame(type_encoded, columns=onehot_encoder_file_type.get_feature_names_out())], axis=1)\n",
        "\n",
        "# Ensure feature names are in the same order as during training\n",
        "encoded_features = encoded_features.reindex(columns=onehot_encoder_file_path.get_feature_names_out(), fill_value=0)\n",
        "\n",
        "# Predict using the trained Random Forest Classifier\n",
        "prediction = rf_classifier.predict(encoded_features)\n",
        "\n",
        "# Decode the prediction using the label encoder\n",
        "predicted_class = label_encoder.inverse_transform(prediction)[0]\n",
        "\n",
        "# Print the predicted class (malicious or benign)\n",
        "print(\"Predicted Class:\", predicted_class)\n"
      ],
      "metadata": {
        "colab": {
          "base_uri": "https://localhost:8080/",
          "height": 741
        },
        "id": "P8GsuK-xrapZ",
        "outputId": "eb6eeece-8326-46ec-b590-63164a39b882"
      },
      "execution_count": null,
      "outputs": [
        {
          "output_type": "stream",
          "name": "stderr",
          "text": [
            "/usr/local/lib/python3.10/dist-packages/sklearn/preprocessing/_encoders.py:868: FutureWarning: `sparse` was renamed to `sparse_output` in version 1.2 and will be removed in 1.4. `sparse_output` is ignored unless you leave `sparse` to its default value.\n",
            "  warnings.warn(\n",
            "/usr/local/lib/python3.10/dist-packages/sklearn/preprocessing/_encoders.py:868: FutureWarning: `sparse` was renamed to `sparse_output` in version 1.2 and will be removed in 1.4. `sparse_output` is ignored unless you leave `sparse` to its default value.\n",
            "  warnings.warn(\n",
            "/usr/local/lib/python3.10/dist-packages/sklearn/preprocessing/_encoders.py:868: FutureWarning: `sparse` was renamed to `sparse_output` in version 1.2 and will be removed in 1.4. `sparse_output` is ignored unless you leave `sparse` to its default value.\n",
            "  warnings.warn(\n"
          ]
        },
        {
          "name": "stdout",
          "output_type": "stream",
          "text": [
            "Enter the file path: C:\\Program Files\\7-Zip\\7-zip.chm\n"
          ]
        },
        {
          "output_type": "stream",
          "name": "stderr",
          "text": [
            "/usr/local/lib/python3.10/dist-packages/sklearn/base.py:439: UserWarning: X does not have valid feature names, but OneHotEncoder was fitted with feature names\n",
            "  warnings.warn(\n",
            "/usr/local/lib/python3.10/dist-packages/sklearn/base.py:439: UserWarning: X does not have valid feature names, but OneHotEncoder was fitted with feature names\n",
            "  warnings.warn(\n",
            "/usr/local/lib/python3.10/dist-packages/sklearn/base.py:439: UserWarning: X does not have valid feature names, but OneHotEncoder was fitted with feature names\n",
            "  warnings.warn(\n"
          ]
        },
        {
          "output_type": "error",
          "ename": "ValueError",
          "evalue": "The feature names should match those that were passed during fit.\nFeature names seen at fit time, yet now missing:\n- File Name_4GBPatch.cff\n- File Name_7-zip.chm\n- File Name_7-zip.dll\n- File Name_7-zip32.dll\n- File Name_7z.dll\n- ...\n",
          "traceback": [
            "\u001b[0;31m---------------------------------------------------------------------------\u001b[0m",
            "\u001b[0;31mValueError\u001b[0m                                Traceback (most recent call last)",
            "\u001b[0;32m<ipython-input-23-5d79e2ef0212>\u001b[0m in \u001b[0;36m<cell line: 75>\u001b[0;34m()\u001b[0m\n\u001b[1;32m     73\u001b[0m \u001b[0;34m\u001b[0m\u001b[0m\n\u001b[1;32m     74\u001b[0m \u001b[0;31m# Predict using the trained Random Forest Classifier\u001b[0m\u001b[0;34m\u001b[0m\u001b[0;34m\u001b[0m\u001b[0m\n\u001b[0;32m---> 75\u001b[0;31m \u001b[0mprediction\u001b[0m \u001b[0;34m=\u001b[0m \u001b[0mrf_classifier\u001b[0m\u001b[0;34m.\u001b[0m\u001b[0mpredict\u001b[0m\u001b[0;34m(\u001b[0m\u001b[0mencoded_features\u001b[0m\u001b[0;34m)\u001b[0m\u001b[0;34m\u001b[0m\u001b[0;34m\u001b[0m\u001b[0m\n\u001b[0m\u001b[1;32m     76\u001b[0m \u001b[0;34m\u001b[0m\u001b[0m\n\u001b[1;32m     77\u001b[0m \u001b[0;31m# Decode the prediction using the label encoder\u001b[0m\u001b[0;34m\u001b[0m\u001b[0;34m\u001b[0m\u001b[0m\n",
            "\u001b[0;32m/usr/local/lib/python3.10/dist-packages/sklearn/ensemble/_forest.py\u001b[0m in \u001b[0;36mpredict\u001b[0;34m(self, X)\u001b[0m\n\u001b[1;32m    818\u001b[0m             \u001b[0mThe\u001b[0m \u001b[0mpredicted\u001b[0m \u001b[0mclasses\u001b[0m\u001b[0;34m.\u001b[0m\u001b[0;34m\u001b[0m\u001b[0;34m\u001b[0m\u001b[0m\n\u001b[1;32m    819\u001b[0m         \"\"\"\n\u001b[0;32m--> 820\u001b[0;31m         \u001b[0mproba\u001b[0m \u001b[0;34m=\u001b[0m \u001b[0mself\u001b[0m\u001b[0;34m.\u001b[0m\u001b[0mpredict_proba\u001b[0m\u001b[0;34m(\u001b[0m\u001b[0mX\u001b[0m\u001b[0;34m)\u001b[0m\u001b[0;34m\u001b[0m\u001b[0;34m\u001b[0m\u001b[0m\n\u001b[0m\u001b[1;32m    821\u001b[0m \u001b[0;34m\u001b[0m\u001b[0m\n\u001b[1;32m    822\u001b[0m         \u001b[0;32mif\u001b[0m \u001b[0mself\u001b[0m\u001b[0;34m.\u001b[0m\u001b[0mn_outputs_\u001b[0m \u001b[0;34m==\u001b[0m \u001b[0;36m1\u001b[0m\u001b[0;34m:\u001b[0m\u001b[0;34m\u001b[0m\u001b[0;34m\u001b[0m\u001b[0m\n",
            "\u001b[0;32m/usr/local/lib/python3.10/dist-packages/sklearn/ensemble/_forest.py\u001b[0m in \u001b[0;36mpredict_proba\u001b[0;34m(self, X)\u001b[0m\n\u001b[1;32m    860\u001b[0m         \u001b[0mcheck_is_fitted\u001b[0m\u001b[0;34m(\u001b[0m\u001b[0mself\u001b[0m\u001b[0;34m)\u001b[0m\u001b[0;34m\u001b[0m\u001b[0;34m\u001b[0m\u001b[0m\n\u001b[1;32m    861\u001b[0m         \u001b[0;31m# Check data\u001b[0m\u001b[0;34m\u001b[0m\u001b[0;34m\u001b[0m\u001b[0m\n\u001b[0;32m--> 862\u001b[0;31m         \u001b[0mX\u001b[0m \u001b[0;34m=\u001b[0m \u001b[0mself\u001b[0m\u001b[0;34m.\u001b[0m\u001b[0m_validate_X_predict\u001b[0m\u001b[0;34m(\u001b[0m\u001b[0mX\u001b[0m\u001b[0;34m)\u001b[0m\u001b[0;34m\u001b[0m\u001b[0;34m\u001b[0m\u001b[0m\n\u001b[0m\u001b[1;32m    863\u001b[0m \u001b[0;34m\u001b[0m\u001b[0m\n\u001b[1;32m    864\u001b[0m         \u001b[0;31m# Assign chunk of trees to jobs\u001b[0m\u001b[0;34m\u001b[0m\u001b[0;34m\u001b[0m\u001b[0m\n",
            "\u001b[0;32m/usr/local/lib/python3.10/dist-packages/sklearn/ensemble/_forest.py\u001b[0m in \u001b[0;36m_validate_X_predict\u001b[0;34m(self, X)\u001b[0m\n\u001b[1;32m    600\u001b[0m         Validate X whenever one tries to predict, apply, predict_proba.\"\"\"\n\u001b[1;32m    601\u001b[0m         \u001b[0mcheck_is_fitted\u001b[0m\u001b[0;34m(\u001b[0m\u001b[0mself\u001b[0m\u001b[0;34m)\u001b[0m\u001b[0;34m\u001b[0m\u001b[0;34m\u001b[0m\u001b[0m\n\u001b[0;32m--> 602\u001b[0;31m         \u001b[0mX\u001b[0m \u001b[0;34m=\u001b[0m \u001b[0mself\u001b[0m\u001b[0;34m.\u001b[0m\u001b[0m_validate_data\u001b[0m\u001b[0;34m(\u001b[0m\u001b[0mX\u001b[0m\u001b[0;34m,\u001b[0m \u001b[0mdtype\u001b[0m\u001b[0;34m=\u001b[0m\u001b[0mDTYPE\u001b[0m\u001b[0;34m,\u001b[0m \u001b[0maccept_sparse\u001b[0m\u001b[0;34m=\u001b[0m\u001b[0;34m\"csr\"\u001b[0m\u001b[0;34m,\u001b[0m \u001b[0mreset\u001b[0m\u001b[0;34m=\u001b[0m\u001b[0;32mFalse\u001b[0m\u001b[0;34m)\u001b[0m\u001b[0;34m\u001b[0m\u001b[0;34m\u001b[0m\u001b[0m\n\u001b[0m\u001b[1;32m    603\u001b[0m         \u001b[0;32mif\u001b[0m \u001b[0missparse\u001b[0m\u001b[0;34m(\u001b[0m\u001b[0mX\u001b[0m\u001b[0;34m)\u001b[0m \u001b[0;32mand\u001b[0m \u001b[0;34m(\u001b[0m\u001b[0mX\u001b[0m\u001b[0;34m.\u001b[0m\u001b[0mindices\u001b[0m\u001b[0;34m.\u001b[0m\u001b[0mdtype\u001b[0m \u001b[0;34m!=\u001b[0m \u001b[0mnp\u001b[0m\u001b[0;34m.\u001b[0m\u001b[0mintc\u001b[0m \u001b[0;32mor\u001b[0m \u001b[0mX\u001b[0m\u001b[0;34m.\u001b[0m\u001b[0mindptr\u001b[0m\u001b[0;34m.\u001b[0m\u001b[0mdtype\u001b[0m \u001b[0;34m!=\u001b[0m \u001b[0mnp\u001b[0m\u001b[0;34m.\u001b[0m\u001b[0mintc\u001b[0m\u001b[0;34m)\u001b[0m\u001b[0;34m:\u001b[0m\u001b[0;34m\u001b[0m\u001b[0;34m\u001b[0m\u001b[0m\n\u001b[1;32m    604\u001b[0m             \u001b[0;32mraise\u001b[0m \u001b[0mValueError\u001b[0m\u001b[0;34m(\u001b[0m\u001b[0;34m\"No support for np.int64 index based sparse matrices\"\u001b[0m\u001b[0;34m)\u001b[0m\u001b[0;34m\u001b[0m\u001b[0;34m\u001b[0m\u001b[0m\n",
            "\u001b[0;32m/usr/local/lib/python3.10/dist-packages/sklearn/base.py\u001b[0m in \u001b[0;36m_validate_data\u001b[0;34m(self, X, y, reset, validate_separately, **check_params)\u001b[0m\n\u001b[1;32m    546\u001b[0m             \u001b[0mvalidated\u001b[0m\u001b[0;34m.\u001b[0m\u001b[0;34m\u001b[0m\u001b[0;34m\u001b[0m\u001b[0m\n\u001b[1;32m    547\u001b[0m         \"\"\"\n\u001b[0;32m--> 548\u001b[0;31m         \u001b[0mself\u001b[0m\u001b[0;34m.\u001b[0m\u001b[0m_check_feature_names\u001b[0m\u001b[0;34m(\u001b[0m\u001b[0mX\u001b[0m\u001b[0;34m,\u001b[0m \u001b[0mreset\u001b[0m\u001b[0;34m=\u001b[0m\u001b[0mreset\u001b[0m\u001b[0;34m)\u001b[0m\u001b[0;34m\u001b[0m\u001b[0;34m\u001b[0m\u001b[0m\n\u001b[0m\u001b[1;32m    549\u001b[0m \u001b[0;34m\u001b[0m\u001b[0m\n\u001b[1;32m    550\u001b[0m         \u001b[0;32mif\u001b[0m \u001b[0my\u001b[0m \u001b[0;32mis\u001b[0m \u001b[0;32mNone\u001b[0m \u001b[0;32mand\u001b[0m \u001b[0mself\u001b[0m\u001b[0;34m.\u001b[0m\u001b[0m_get_tags\u001b[0m\u001b[0;34m(\u001b[0m\u001b[0;34m)\u001b[0m\u001b[0;34m[\u001b[0m\u001b[0;34m\"requires_y\"\u001b[0m\u001b[0;34m]\u001b[0m\u001b[0;34m:\u001b[0m\u001b[0;34m\u001b[0m\u001b[0;34m\u001b[0m\u001b[0m\n",
            "\u001b[0;32m/usr/local/lib/python3.10/dist-packages/sklearn/base.py\u001b[0m in \u001b[0;36m_check_feature_names\u001b[0;34m(self, X, reset)\u001b[0m\n\u001b[1;32m    479\u001b[0m                 )\n\u001b[1;32m    480\u001b[0m \u001b[0;34m\u001b[0m\u001b[0m\n\u001b[0;32m--> 481\u001b[0;31m             \u001b[0;32mraise\u001b[0m \u001b[0mValueError\u001b[0m\u001b[0;34m(\u001b[0m\u001b[0mmessage\u001b[0m\u001b[0;34m)\u001b[0m\u001b[0;34m\u001b[0m\u001b[0;34m\u001b[0m\u001b[0m\n\u001b[0m\u001b[1;32m    482\u001b[0m \u001b[0;34m\u001b[0m\u001b[0m\n\u001b[1;32m    483\u001b[0m     def _validate_data(\n",
            "\u001b[0;31mValueError\u001b[0m: The feature names should match those that were passed during fit.\nFeature names seen at fit time, yet now missing:\n- File Name_4GBPatch.cff\n- File Name_7-zip.chm\n- File Name_7-zip.dll\n- File Name_7-zip32.dll\n- File Name_7z.dll\n- ...\n"
          ]
        }
      ]
    },
    {
      "cell_type": "code",
      "source": [
        "import pandas as pd\n",
        "from sklearn.preprocessing import LabelEncoder\n",
        "from sklearn.model_selection import train_test_split\n",
        "from sklearn.ensemble import RandomForestClassifier\n",
        "from sklearn.metrics import accuracy_score, confusion_matrix\n",
        "from joblib import dump, load\n",
        "import matplotlib.pyplot as plt\n",
        "import seaborn as sns\n",
        "import os\n",
        "\n",
        "# Load the CSV file into a DataFrame\n",
        "df = pd.read_csv(\"malicious_and_benign_data.csv\")\n",
        "\n",
        "# Encode the 'Classification' column using LabelEncoder\n",
        "label_encoder = LabelEncoder()\n",
        "df['Classification'] = label_encoder.fit_transform(df['Classification'])\n",
        "\n",
        "# Encode categorical variables\n",
        "df['File Path'] = label_encoder.fit_transform(df['File Path'])\n",
        "df['File Name'] = label_encoder.fit_transform(df['File Name'])\n",
        "df['File Type'] = label_encoder.fit_transform(df['File Type'])\n",
        "\n",
        "# Save the encoded DataFrame to a new CSV file\n",
        "df.to_csv(\"encoded_data.csv\", index=False)\n",
        "\n",
        "print(\"Categorical encoding completed and saved to 'encoded_data.csv'.\")\n",
        "\n",
        "# Split the data into train and test sets\n",
        "X = df.drop(columns=['Classification'])\n",
        "y = df['Classification']\n",
        "X_train, X_test, y_train, y_test = train_test_split(X, y, test_size=0.2, random_state=42)\n",
        "\n",
        "# Train the Random Forest Classifier\n",
        "rf_classifier = RandomForestClassifier(n_estimators=100, random_state=42)\n",
        "rf_classifier.fit(X_train, y_train)\n",
        "\n",
        "# Cache the trained model\n",
        "dump(rf_classifier, \"cached_model_rf.joblib\")\n",
        "print(\"Trained Random Forest model cached.\")\n",
        "\n",
        "# Define function to predict whether a file path is benign or malicious\n",
        "def predict_malicious(filepath):\n",
        "    # Encode the input filepath\n",
        "    path_only = \"\\\\\".join(filepath.split(\"\\\\\")[:-1])  # Extract path without filename\n",
        "    file_name = filepath.split(\"\\\\\")[-1]  # Extract file name\n",
        "    file_type = file_name.split(\".\")[-1]  # Extract file type\n",
        "\n",
        "    # Encode each part\n",
        "    path_encoded = label_encoder.transform([path_only])[0]\n",
        "    file_name_encoded = label_encoder.transform([file_name])[0]\n",
        "    file_type_encoded = label_encoder.transform([file_type])[0]\n",
        "\n",
        "    # Predict using the trained model\n",
        "    prediction = rf_classifier.predict([[path_encoded, file_name_encoded, file_type_encoded]])\n",
        "    if prediction[0] == 0:\n",
        "        return \"Benign\"\n",
        "    else:\n",
        "        return \"Malicious\"\n",
        "\n",
        "# Example usage:\n",
        "user_filepath = \"C:\\\\Windows\\\\PolicyDefinitions\\\\en-US\\\\iSCSI.adml\"\n",
        "prediction_result = predict_malicious(user_filepath)\n",
        "print(\"Prediction:\", prediction_result)\n"
      ],
      "metadata": {
        "colab": {
          "base_uri": "https://localhost:8080/",
          "height": 512
        },
        "id": "xW4BZe5Uh63R",
        "outputId": "cb37f650-6a3e-42c4-9076-e705fd9ece2b"
      },
      "execution_count": null,
      "outputs": [
        {
          "output_type": "stream",
          "name": "stdout",
          "text": [
            "Categorical encoding completed and saved to 'encoded_data.csv'.\n",
            "Trained Random Forest model cached.\n"
          ]
        },
        {
          "output_type": "error",
          "ename": "ValueError",
          "evalue": "y contains previously unseen labels: 'C:\\\\Windows\\\\PolicyDefinitions\\\\en-US'",
          "traceback": [
            "\u001b[0;31m---------------------------------------------------------------------------\u001b[0m",
            "\u001b[0;31mKeyError\u001b[0m                                  Traceback (most recent call last)",
            "\u001b[0;32m/usr/local/lib/python3.10/dist-packages/sklearn/utils/_encode.py\u001b[0m in \u001b[0;36m_encode\u001b[0;34m(values, uniques, check_unknown)\u001b[0m\n\u001b[1;32m    223\u001b[0m         \u001b[0;32mtry\u001b[0m\u001b[0;34m:\u001b[0m\u001b[0;34m\u001b[0m\u001b[0;34m\u001b[0m\u001b[0m\n\u001b[0;32m--> 224\u001b[0;31m             \u001b[0;32mreturn\u001b[0m \u001b[0m_map_to_integer\u001b[0m\u001b[0;34m(\u001b[0m\u001b[0mvalues\u001b[0m\u001b[0;34m,\u001b[0m \u001b[0muniques\u001b[0m\u001b[0;34m)\u001b[0m\u001b[0;34m\u001b[0m\u001b[0;34m\u001b[0m\u001b[0m\n\u001b[0m\u001b[1;32m    225\u001b[0m         \u001b[0;32mexcept\u001b[0m \u001b[0mKeyError\u001b[0m \u001b[0;32mas\u001b[0m \u001b[0me\u001b[0m\u001b[0;34m:\u001b[0m\u001b[0;34m\u001b[0m\u001b[0;34m\u001b[0m\u001b[0m\n",
            "\u001b[0;32m/usr/local/lib/python3.10/dist-packages/sklearn/utils/_encode.py\u001b[0m in \u001b[0;36m_map_to_integer\u001b[0;34m(values, uniques)\u001b[0m\n\u001b[1;32m    163\u001b[0m     \u001b[0mtable\u001b[0m \u001b[0;34m=\u001b[0m \u001b[0m_nandict\u001b[0m\u001b[0;34m(\u001b[0m\u001b[0;34m{\u001b[0m\u001b[0mval\u001b[0m\u001b[0;34m:\u001b[0m \u001b[0mi\u001b[0m \u001b[0;32mfor\u001b[0m \u001b[0mi\u001b[0m\u001b[0;34m,\u001b[0m \u001b[0mval\u001b[0m \u001b[0;32min\u001b[0m \u001b[0menumerate\u001b[0m\u001b[0;34m(\u001b[0m\u001b[0muniques\u001b[0m\u001b[0;34m)\u001b[0m\u001b[0;34m}\u001b[0m\u001b[0;34m)\u001b[0m\u001b[0;34m\u001b[0m\u001b[0;34m\u001b[0m\u001b[0m\n\u001b[0;32m--> 164\u001b[0;31m     \u001b[0;32mreturn\u001b[0m \u001b[0mnp\u001b[0m\u001b[0;34m.\u001b[0m\u001b[0marray\u001b[0m\u001b[0;34m(\u001b[0m\u001b[0;34m[\u001b[0m\u001b[0mtable\u001b[0m\u001b[0;34m[\u001b[0m\u001b[0mv\u001b[0m\u001b[0;34m]\u001b[0m \u001b[0;32mfor\u001b[0m \u001b[0mv\u001b[0m \u001b[0;32min\u001b[0m \u001b[0mvalues\u001b[0m\u001b[0;34m]\u001b[0m\u001b[0;34m)\u001b[0m\u001b[0;34m\u001b[0m\u001b[0;34m\u001b[0m\u001b[0m\n\u001b[0m\u001b[1;32m    165\u001b[0m \u001b[0;34m\u001b[0m\u001b[0m\n",
            "\u001b[0;32m/usr/local/lib/python3.10/dist-packages/sklearn/utils/_encode.py\u001b[0m in \u001b[0;36m<listcomp>\u001b[0;34m(.0)\u001b[0m\n\u001b[1;32m    163\u001b[0m     \u001b[0mtable\u001b[0m \u001b[0;34m=\u001b[0m \u001b[0m_nandict\u001b[0m\u001b[0;34m(\u001b[0m\u001b[0;34m{\u001b[0m\u001b[0mval\u001b[0m\u001b[0;34m:\u001b[0m \u001b[0mi\u001b[0m \u001b[0;32mfor\u001b[0m \u001b[0mi\u001b[0m\u001b[0;34m,\u001b[0m \u001b[0mval\u001b[0m \u001b[0;32min\u001b[0m \u001b[0menumerate\u001b[0m\u001b[0;34m(\u001b[0m\u001b[0muniques\u001b[0m\u001b[0;34m)\u001b[0m\u001b[0;34m}\u001b[0m\u001b[0;34m)\u001b[0m\u001b[0;34m\u001b[0m\u001b[0;34m\u001b[0m\u001b[0m\n\u001b[0;32m--> 164\u001b[0;31m     \u001b[0;32mreturn\u001b[0m \u001b[0mnp\u001b[0m\u001b[0;34m.\u001b[0m\u001b[0marray\u001b[0m\u001b[0;34m(\u001b[0m\u001b[0;34m[\u001b[0m\u001b[0mtable\u001b[0m\u001b[0;34m[\u001b[0m\u001b[0mv\u001b[0m\u001b[0;34m]\u001b[0m \u001b[0;32mfor\u001b[0m \u001b[0mv\u001b[0m \u001b[0;32min\u001b[0m \u001b[0mvalues\u001b[0m\u001b[0;34m]\u001b[0m\u001b[0;34m)\u001b[0m\u001b[0;34m\u001b[0m\u001b[0;34m\u001b[0m\u001b[0m\n\u001b[0m\u001b[1;32m    165\u001b[0m \u001b[0;34m\u001b[0m\u001b[0m\n",
            "\u001b[0;32m/usr/local/lib/python3.10/dist-packages/sklearn/utils/_encode.py\u001b[0m in \u001b[0;36m__missing__\u001b[0;34m(self, key)\u001b[0m\n\u001b[1;32m    157\u001b[0m             \u001b[0;32mreturn\u001b[0m \u001b[0mself\u001b[0m\u001b[0;34m.\u001b[0m\u001b[0mnan_value\u001b[0m\u001b[0;34m\u001b[0m\u001b[0;34m\u001b[0m\u001b[0m\n\u001b[0;32m--> 158\u001b[0;31m         \u001b[0;32mraise\u001b[0m \u001b[0mKeyError\u001b[0m\u001b[0;34m(\u001b[0m\u001b[0mkey\u001b[0m\u001b[0;34m)\u001b[0m\u001b[0;34m\u001b[0m\u001b[0;34m\u001b[0m\u001b[0m\n\u001b[0m\u001b[1;32m    159\u001b[0m \u001b[0;34m\u001b[0m\u001b[0m\n",
            "\u001b[0;31mKeyError\u001b[0m: 'C:\\\\Windows\\\\PolicyDefinitions\\\\en-US'",
            "\nDuring handling of the above exception, another exception occurred:\n",
            "\u001b[0;31mValueError\u001b[0m                                Traceback (most recent call last)",
            "\u001b[0;32m<ipython-input-7-38f0d66abccf>\u001b[0m in \u001b[0;36m<cell line: 62>\u001b[0;34m()\u001b[0m\n\u001b[1;32m     60\u001b[0m \u001b[0;31m# Example usage:\u001b[0m\u001b[0;34m\u001b[0m\u001b[0;34m\u001b[0m\u001b[0m\n\u001b[1;32m     61\u001b[0m \u001b[0muser_filepath\u001b[0m \u001b[0;34m=\u001b[0m \u001b[0;34m\"C:\\\\Windows\\\\PolicyDefinitions\\\\en-US\\\\iSCSI.adml\"\u001b[0m\u001b[0;34m\u001b[0m\u001b[0;34m\u001b[0m\u001b[0m\n\u001b[0;32m---> 62\u001b[0;31m \u001b[0mprediction_result\u001b[0m \u001b[0;34m=\u001b[0m \u001b[0mpredict_malicious\u001b[0m\u001b[0;34m(\u001b[0m\u001b[0muser_filepath\u001b[0m\u001b[0;34m)\u001b[0m\u001b[0;34m\u001b[0m\u001b[0;34m\u001b[0m\u001b[0m\n\u001b[0m\u001b[1;32m     63\u001b[0m \u001b[0mprint\u001b[0m\u001b[0;34m(\u001b[0m\u001b[0;34m\"Prediction:\"\u001b[0m\u001b[0;34m,\u001b[0m \u001b[0mprediction_result\u001b[0m\u001b[0;34m)\u001b[0m\u001b[0;34m\u001b[0m\u001b[0;34m\u001b[0m\u001b[0m\n",
            "\u001b[0;32m<ipython-input-7-38f0d66abccf>\u001b[0m in \u001b[0;36mpredict_malicious\u001b[0;34m(filepath)\u001b[0m\n\u001b[1;32m     47\u001b[0m \u001b[0;34m\u001b[0m\u001b[0m\n\u001b[1;32m     48\u001b[0m     \u001b[0;31m# Encode each part\u001b[0m\u001b[0;34m\u001b[0m\u001b[0;34m\u001b[0m\u001b[0m\n\u001b[0;32m---> 49\u001b[0;31m     \u001b[0mpath_encoded\u001b[0m \u001b[0;34m=\u001b[0m \u001b[0mlabel_encoder\u001b[0m\u001b[0;34m.\u001b[0m\u001b[0mtransform\u001b[0m\u001b[0;34m(\u001b[0m\u001b[0;34m[\u001b[0m\u001b[0mpath_only\u001b[0m\u001b[0;34m]\u001b[0m\u001b[0;34m)\u001b[0m\u001b[0;34m[\u001b[0m\u001b[0;36m0\u001b[0m\u001b[0;34m]\u001b[0m\u001b[0;34m\u001b[0m\u001b[0;34m\u001b[0m\u001b[0m\n\u001b[0m\u001b[1;32m     50\u001b[0m     \u001b[0mfile_name_encoded\u001b[0m \u001b[0;34m=\u001b[0m \u001b[0mlabel_encoder\u001b[0m\u001b[0;34m.\u001b[0m\u001b[0mtransform\u001b[0m\u001b[0;34m(\u001b[0m\u001b[0;34m[\u001b[0m\u001b[0mfile_name\u001b[0m\u001b[0;34m]\u001b[0m\u001b[0;34m)\u001b[0m\u001b[0;34m[\u001b[0m\u001b[0;36m0\u001b[0m\u001b[0;34m]\u001b[0m\u001b[0;34m\u001b[0m\u001b[0;34m\u001b[0m\u001b[0m\n\u001b[1;32m     51\u001b[0m     \u001b[0mfile_type_encoded\u001b[0m \u001b[0;34m=\u001b[0m \u001b[0mlabel_encoder\u001b[0m\u001b[0;34m.\u001b[0m\u001b[0mtransform\u001b[0m\u001b[0;34m(\u001b[0m\u001b[0;34m[\u001b[0m\u001b[0mfile_type\u001b[0m\u001b[0;34m]\u001b[0m\u001b[0;34m)\u001b[0m\u001b[0;34m[\u001b[0m\u001b[0;36m0\u001b[0m\u001b[0;34m]\u001b[0m\u001b[0;34m\u001b[0m\u001b[0;34m\u001b[0m\u001b[0m\n",
            "\u001b[0;32m/usr/local/lib/python3.10/dist-packages/sklearn/utils/_set_output.py\u001b[0m in \u001b[0;36mwrapped\u001b[0;34m(self, X, *args, **kwargs)\u001b[0m\n\u001b[1;32m    138\u001b[0m     \u001b[0;34m@\u001b[0m\u001b[0mwraps\u001b[0m\u001b[0;34m(\u001b[0m\u001b[0mf\u001b[0m\u001b[0;34m)\u001b[0m\u001b[0;34m\u001b[0m\u001b[0;34m\u001b[0m\u001b[0m\n\u001b[1;32m    139\u001b[0m     \u001b[0;32mdef\u001b[0m \u001b[0mwrapped\u001b[0m\u001b[0;34m(\u001b[0m\u001b[0mself\u001b[0m\u001b[0;34m,\u001b[0m \u001b[0mX\u001b[0m\u001b[0;34m,\u001b[0m \u001b[0;34m*\u001b[0m\u001b[0margs\u001b[0m\u001b[0;34m,\u001b[0m \u001b[0;34m**\u001b[0m\u001b[0mkwargs\u001b[0m\u001b[0;34m)\u001b[0m\u001b[0;34m:\u001b[0m\u001b[0;34m\u001b[0m\u001b[0;34m\u001b[0m\u001b[0m\n\u001b[0;32m--> 140\u001b[0;31m         \u001b[0mdata_to_wrap\u001b[0m \u001b[0;34m=\u001b[0m \u001b[0mf\u001b[0m\u001b[0;34m(\u001b[0m\u001b[0mself\u001b[0m\u001b[0;34m,\u001b[0m \u001b[0mX\u001b[0m\u001b[0;34m,\u001b[0m \u001b[0;34m*\u001b[0m\u001b[0margs\u001b[0m\u001b[0;34m,\u001b[0m \u001b[0;34m**\u001b[0m\u001b[0mkwargs\u001b[0m\u001b[0;34m)\u001b[0m\u001b[0;34m\u001b[0m\u001b[0;34m\u001b[0m\u001b[0m\n\u001b[0m\u001b[1;32m    141\u001b[0m         \u001b[0;32mif\u001b[0m \u001b[0misinstance\u001b[0m\u001b[0;34m(\u001b[0m\u001b[0mdata_to_wrap\u001b[0m\u001b[0;34m,\u001b[0m \u001b[0mtuple\u001b[0m\u001b[0;34m)\u001b[0m\u001b[0;34m:\u001b[0m\u001b[0;34m\u001b[0m\u001b[0;34m\u001b[0m\u001b[0m\n\u001b[1;32m    142\u001b[0m             \u001b[0;31m# only wrap the first output for cross decomposition\u001b[0m\u001b[0;34m\u001b[0m\u001b[0;34m\u001b[0m\u001b[0m\n",
            "\u001b[0;32m/usr/local/lib/python3.10/dist-packages/sklearn/preprocessing/_label.py\u001b[0m in \u001b[0;36mtransform\u001b[0;34m(self, y)\u001b[0m\n\u001b[1;32m    137\u001b[0m             \u001b[0;32mreturn\u001b[0m \u001b[0mnp\u001b[0m\u001b[0;34m.\u001b[0m\u001b[0marray\u001b[0m\u001b[0;34m(\u001b[0m\u001b[0;34m[\u001b[0m\u001b[0;34m]\u001b[0m\u001b[0;34m)\u001b[0m\u001b[0;34m\u001b[0m\u001b[0;34m\u001b[0m\u001b[0m\n\u001b[1;32m    138\u001b[0m \u001b[0;34m\u001b[0m\u001b[0m\n\u001b[0;32m--> 139\u001b[0;31m         \u001b[0;32mreturn\u001b[0m \u001b[0m_encode\u001b[0m\u001b[0;34m(\u001b[0m\u001b[0my\u001b[0m\u001b[0;34m,\u001b[0m \u001b[0muniques\u001b[0m\u001b[0;34m=\u001b[0m\u001b[0mself\u001b[0m\u001b[0;34m.\u001b[0m\u001b[0mclasses_\u001b[0m\u001b[0;34m)\u001b[0m\u001b[0;34m\u001b[0m\u001b[0;34m\u001b[0m\u001b[0m\n\u001b[0m\u001b[1;32m    140\u001b[0m \u001b[0;34m\u001b[0m\u001b[0m\n\u001b[1;32m    141\u001b[0m     \u001b[0;32mdef\u001b[0m \u001b[0minverse_transform\u001b[0m\u001b[0;34m(\u001b[0m\u001b[0mself\u001b[0m\u001b[0;34m,\u001b[0m \u001b[0my\u001b[0m\u001b[0;34m)\u001b[0m\u001b[0;34m:\u001b[0m\u001b[0;34m\u001b[0m\u001b[0;34m\u001b[0m\u001b[0m\n",
            "\u001b[0;32m/usr/local/lib/python3.10/dist-packages/sklearn/utils/_encode.py\u001b[0m in \u001b[0;36m_encode\u001b[0;34m(values, uniques, check_unknown)\u001b[0m\n\u001b[1;32m    224\u001b[0m             \u001b[0;32mreturn\u001b[0m \u001b[0m_map_to_integer\u001b[0m\u001b[0;34m(\u001b[0m\u001b[0mvalues\u001b[0m\u001b[0;34m,\u001b[0m \u001b[0muniques\u001b[0m\u001b[0;34m)\u001b[0m\u001b[0;34m\u001b[0m\u001b[0;34m\u001b[0m\u001b[0m\n\u001b[1;32m    225\u001b[0m         \u001b[0;32mexcept\u001b[0m \u001b[0mKeyError\u001b[0m \u001b[0;32mas\u001b[0m \u001b[0me\u001b[0m\u001b[0;34m:\u001b[0m\u001b[0;34m\u001b[0m\u001b[0;34m\u001b[0m\u001b[0m\n\u001b[0;32m--> 226\u001b[0;31m             \u001b[0;32mraise\u001b[0m \u001b[0mValueError\u001b[0m\u001b[0;34m(\u001b[0m\u001b[0;34mf\"y contains previously unseen labels: {str(e)}\"\u001b[0m\u001b[0;34m)\u001b[0m\u001b[0;34m\u001b[0m\u001b[0;34m\u001b[0m\u001b[0m\n\u001b[0m\u001b[1;32m    227\u001b[0m     \u001b[0;32melse\u001b[0m\u001b[0;34m:\u001b[0m\u001b[0;34m\u001b[0m\u001b[0;34m\u001b[0m\u001b[0m\n\u001b[1;32m    228\u001b[0m         \u001b[0;32mif\u001b[0m \u001b[0mcheck_unknown\u001b[0m\u001b[0;34m:\u001b[0m\u001b[0;34m\u001b[0m\u001b[0;34m\u001b[0m\u001b[0m\n",
            "\u001b[0;31mValueError\u001b[0m: y contains previously unseen labels: 'C:\\\\Windows\\\\PolicyDefinitions\\\\en-US'"
          ]
        }
      ]
    }
  ],
  "metadata": {
    "kernelspec": {
      "display_name": "Python 3",
      "name": "python3"
    },
    "language_info": {
      "codemirror_mode": {
        "name": "ipython",
        "version": 3
      },
      "file_extension": ".py",
      "mimetype": "text/x-python",
      "name": "python",
      "nbconvert_exporter": "python",
      "pygments_lexer": "ipython3",
      "version": "3.7.7"
    },
    "colab": {
      "provenance": [],
      "gpuType": "T4",
      "include_colab_link": true
    },
    "accelerator": "GPU"
  },
  "nbformat": 4,
  "nbformat_minor": 0
}